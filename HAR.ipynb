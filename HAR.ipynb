{
 "cells": [
  {
   "cell_type": "code",
   "execution_count": 1,
   "metadata": {},
   "outputs": [],
   "source": [
    "# Importing Libraries"
   ]
  },
  {
   "cell_type": "code",
   "execution_count": 41,
   "metadata": {},
   "outputs": [],
   "source": [
    "import pandas as pd\n",
    "import numpy as np\n",
    "import pdb\n",
    "from sklearn.model_selection import GridSearchCV\n",
    "from keras.wrappers.scikit_learn import KerasClassifier\n",
    "import matplotlib.pyplot as plt \n",
    "from sklearn.metrics import confusion_matrix\n",
    "from sklearn.metrics import accuracy_score\n",
    "import sklearn.metrics\n",
    "from joblib import dump, load\n",
    "import keras\n",
    "import itertools\n",
    "\n"
   ]
  },
  {
   "cell_type": "markdown",
   "metadata": {},
   "source": [
    "### Data"
   ]
  },
  {
   "cell_type": "code",
   "execution_count": 3,
   "metadata": {},
   "outputs": [],
   "source": [
    "# Importing tensorflow\n",
    "np.random.seed(42)\n",
    "import tensorflow as tf\n",
    "tf.set_random_seed(42)"
   ]
  },
  {
   "cell_type": "code",
   "execution_count": 4,
   "metadata": {},
   "outputs": [],
   "source": [
    "# Configuring a session\n",
    "session_conf = tf.ConfigProto(\n",
    "    intra_op_parallelism_threads=1,\n",
    "    inter_op_parallelism_threads=1\n",
    ")"
   ]
  },
  {
   "cell_type": "code",
   "execution_count": 6,
   "metadata": {},
   "outputs": [],
   "source": [
    "# Import Keras\n",
    "from keras import backend as K\n",
    "sess = tf.Session(graph=tf.get_default_graph(), config=session_conf)\n",
    "K.set_session(sess)"
   ]
  },
  {
   "cell_type": "code",
   "execution_count": 5,
   "metadata": {},
   "outputs": [],
   "source": [
    "# Importing libraries\n",
    "from keras.models import Sequential\n",
    "from keras.layers import LSTM\n",
    "from keras.layers.core import Dense, Dropout"
   ]
  },
  {
   "cell_type": "code",
   "execution_count": 6,
   "metadata": {},
   "outputs": [],
   "source": [
    "def plotErrorGraph(history, epochs_size=30):\n",
    "\n",
    "    # Making the plot larger\n",
    "    plt.figure(figsize=(12, 8))\n",
    "\n",
    "    loss = history.history['loss']                          # Loss on the training data\n",
    "    val_loss = history.history['val_loss']                  # Loss on the validation data\n",
    "    epochs = range(1, epochs_size+1)\n",
    "\n",
    "    plt.plot(epochs, loss, 'ro-', label='Training Loss')\n",
    "    plt.plot(epochs, val_loss, 'go-', label = 'Validation Loss')\n",
    "    plt.legend()"
   ]
  },
  {
   "cell_type": "code",
   "execution_count": 8,
   "metadata": {},
   "outputs": [],
   "source": [
    "\n",
    "def data_operation(classifier=6):\n",
    "    \n",
    "        # Activities are the class labels\n",
    "    # It is a 6 class classification\n",
    "    ACTIVITIES = {\n",
    "        0: 'WALKING',\n",
    "        1: 'WALKING_UPSTAIRS',\n",
    "        2: 'WALKING_DOWNSTAIRS',\n",
    "        3: 'SITTING',\n",
    "        4: 'STANDING',\n",
    "        5: 'LAYING',\n",
    "    }\n",
    "\n",
    "    DATADIR = 'UCI_HAR_Dataset'\n",
    "\n",
    "    \n",
    "    SIGNALS = [\n",
    "        \"body_acc_x\",\n",
    "        \"body_acc_y\",\n",
    "        \"body_acc_z\",\n",
    "        \"body_gyro_x\",\n",
    "        \"body_gyro_y\",\n",
    "        \"body_gyro_z\",\n",
    "        \"total_acc_x\",\n",
    "        \"total_acc_y\",\n",
    "        \"total_acc_z\"\n",
    "        ]\n",
    "    \n",
    "\n",
    "        \n",
    "    # Utility function to read the data from csv file\n",
    "    def _read_csv(filename):\n",
    "        return pd.read_csv(filename, delim_whitespace=True, header=None)\n",
    "\n",
    "    # Utility function to load the load\n",
    "    # Utility function to load the load\n",
    "    def load_signals(subset):\n",
    "        signals_data = []\n",
    "\n",
    "        for signal in SIGNALS:\n",
    "            filename = f'UCI_HAR_Dataset/{subset}/Inertial Signals/{signal}_{subset}.txt'\n",
    "            signals_data.append(\n",
    "                _read_csv(filename).as_matrix()\n",
    "            )\n",
    "        # Transpose is used to change the dimensionality of the output,\n",
    "        # aggregating the signals by combination of sample/timestep.\n",
    "        # Resultant shape is (7352 train/2947 test samples, 128 timesteps, 9 signals)\n",
    "        return np.transpose(signals_data, (1, 2, 0))\n",
    "    \n",
    "#     def load_y(subset):\n",
    "#         \"\"\"\n",
    "#         The objective that we are trying to predict is a integer, from 1 to 6,\n",
    "#         that represents a human activity. We return a binary representation of \n",
    "#         every sample objective as a 6 bits vector using One Hot Encoding\n",
    "#         (https://pandas.pydata.org/pandas-docs/stable/generated/pandas.get_dummies.html)\n",
    "#         \"\"\"\n",
    "#         filename = f'UCI_HAR_Dataset/{subset}/y_{subset}.txt'\n",
    "#         y = _read_csv(filename)[0]\n",
    "\n",
    "#         return pd.get_dummies(y).as_matrix()\n",
    "\n",
    "    def load_y(subset):\n",
    "        \"\"\"\n",
    "        The objective that we are trying to predict is a integer, from 1 to 6,\n",
    "        that represents a human activity. We return a binary representation of \n",
    "        every sample objective as a 6 bits vector using One Hot Encoding\n",
    "        (https://pandas.pydata.org/pandas-docs/stable/generated/pandas.get_dummies.html)\n",
    "        \"\"\"\n",
    "        filename = f'UCI_HAR_Dataset/{subset}/y_{subset}.txt'\n",
    "        y = _read_csv(filename)[0]\n",
    "        if classifier==2:\n",
    "            y[y<=3] = 0\n",
    "            y[y>3] = 1\n",
    "            yi_=[]\n",
    "        elif classifier==31:\n",
    "            yi_ = y<=3\n",
    "            y = y[yi_] \n",
    "        elif classifier==32:\n",
    "            yi_ = y>3\n",
    "            y = y[yi_] \n",
    "        else:\n",
    "            yi_=[]\n",
    "        return pd.get_dummies(y).as_matrix(),yi_\n",
    "    \n",
    "    \n",
    "    if classifier==32 or classifier==31:\n",
    "        Y_train,y_train_sub = load_y('train')\n",
    "        Y_test,y_test_sub = load_y('test')\n",
    "        X_train_s, X_test_s = load_signals('train'), load_signals('test')\n",
    "        X_train = X_train_s[y_train_sub]\n",
    "        X_test = X_test_s[y_test_sub]\n",
    "    else:\n",
    "        Y_train,tr = load_y('train')\n",
    "        Y_test,ts = load_y('test')\n",
    "        X_train, X_test = load_signals('train'), load_signals('test')\n",
    "\n",
    "    \n",
    "    return X_train, Y_train, X_test,  Y_test"
   ]
  },
  {
   "cell_type": "markdown",
   "metadata": {},
   "source": [
    "reference : https://www.ncbi.nlm.nih.gov/pmc/articles/PMC5949027/"
   ]
  },
  {
   "cell_type": "markdown",
   "metadata": {},
   "source": [
    "## Divide & Conquer-based 1D CNN HAR"
   ]
  },
  {
   "attachments": {
    "tileshop.jpeg": {
     "image/jpeg": "[encoded data removed]"
    }
   },
   "cell_type": "markdown",
   "metadata": {},
   "source": [
    "![tileshop.jpeg](attachment:tileshop.jpeg)"
   ]
  },
  {
   "cell_type": "markdown",
   "metadata": {},
   "source": [
    "Here we will solve problem using different approach, firstly we will class into two class **Static** and **Dynamic**.\n",
    "\n",
    "WALKING, WALKING UPSTRAIRS, WALKING DOWNSTRAIRS are considered as Dynamic\n",
    "\n",
    "SITTING, STANDING, LAYING are considered as Static"
   ]
  },
  {
   "cell_type": "code",
   "execution_count": 44,
   "metadata": {},
   "outputs": [
    {
     "name": "stderr",
     "output_type": "stream",
     "text": [
      "/home/pranay/anaconda3/lib/python3.7/site-packages/ipykernel_launcher.py:84: FutureWarning: Method .as_matrix will be removed in a future version. Use .values instead.\n",
      "/home/pranay/anaconda3/lib/python3.7/site-packages/ipykernel_launcher.py:44: FutureWarning: Method .as_matrix will be removed in a future version. Use .values instead.\n"
     ]
    },
    {
     "name": "stdout",
     "output_type": "stream",
     "text": [
      "(7352, 128, 9) (7352, 2)\n",
      "(2947, 128, 9) (2947, 2)\n"
     ]
    }
   ],
   "source": [
    "X_train, Y_train, X_test,  Y_test = data_operation(2)\n",
    "\n",
    "print(X_train.shape, Y_train.shape)\n",
    "print(X_test.shape, Y_test.shape)"
   ]
  },
  {
   "cell_type": "code",
   "execution_count": 10,
   "metadata": {},
   "outputs": [],
   "source": [
    "\n",
    "\n",
    "# cnn model\n",
    "from numpy import mean\n",
    "from numpy import std\n",
    "from numpy import dstack\n",
    "from keras.models import Sequential\n",
    "from keras.layers import Dense\n",
    "from keras.layers import Flatten\n",
    "from keras.layers import Dropout\n",
    "from keras.layers.convolutional import Conv1D\n",
    "from keras.layers.convolutional import MaxPooling1D\n",
    "from keras.utils import to_categorical\n",
    "from keras.layers.normalization import BatchNormalization\n"
   ]
  },
  {
   "cell_type": "markdown",
   "metadata": {},
   "source": [
    "### Two class Classifiction"
   ]
  },
  {
   "cell_type": "code",
   "execution_count": 45,
   "metadata": {},
   "outputs": [
    {
     "name": "stdout",
     "output_type": "stream",
     "text": [
      "Train on 7352 samples, validate on 2947 samples\n",
      "Epoch 1/30\n",
      "7352/7352 [==============================] - 4s 519us/step - loss: 0.0913 - acc: 0.9671 - val_loss: 0.1033 - val_acc: 0.9467\n",
      "Epoch 2/30\n",
      "7352/7352 [==============================] - 2s 311us/step - loss: 0.0256 - acc: 0.9914 - val_loss: 0.0951 - val_acc: 0.9569\n",
      "Epoch 3/30\n",
      "7352/7352 [==============================] - 2s 301us/step - loss: 0.0204 - acc: 0.9933 - val_loss: 0.0185 - val_acc: 0.9942\n",
      "Epoch 4/30\n",
      "7352/7352 [==============================] - 2s 302us/step - loss: 0.0129 - acc: 0.9955 - val_loss: 0.0075 - val_acc: 0.9990\n",
      "Epoch 5/30\n",
      "7352/7352 [==============================] - 2s 302us/step - loss: 0.0190 - acc: 0.9951 - val_loss: 0.0172 - val_acc: 0.9932\n",
      "Epoch 6/30\n",
      "7352/7352 [==============================] - 2s 302us/step - loss: 0.0110 - acc: 0.9965 - val_loss: 0.0041 - val_acc: 0.9986\n",
      "Epoch 7/30\n",
      "7352/7352 [==============================] - 2s 305us/step - loss: 0.0101 - acc: 0.9976 - val_loss: 0.0035 - val_acc: 0.9993\n",
      "Epoch 8/30\n",
      "7352/7352 [==============================] - 2s 305us/step - loss: 0.0232 - acc: 0.9925 - val_loss: 0.0019 - val_acc: 0.9990\n",
      "Epoch 9/30\n",
      "7352/7352 [==============================] - 2s 305us/step - loss: 0.0109 - acc: 0.9967 - val_loss: 0.0028 - val_acc: 0.9993\n",
      "Epoch 10/30\n",
      "7352/7352 [==============================] - 2s 305us/step - loss: 0.0167 - acc: 0.9959 - val_loss: 9.8603e-04 - val_acc: 0.9997\n",
      "Epoch 11/30\n",
      "7352/7352 [==============================] - 2s 303us/step - loss: 0.0089 - acc: 0.9971 - val_loss: 0.0030 - val_acc: 0.9986\n",
      "Epoch 12/30\n",
      "7352/7352 [==============================] - 2s 305us/step - loss: 0.0174 - acc: 0.9959 - val_loss: 7.2665e-04 - val_acc: 0.9993\n",
      "Epoch 13/30\n",
      "7352/7352 [==============================] - 2s 303us/step - loss: 0.0127 - acc: 0.9969 - val_loss: 0.0026 - val_acc: 0.9990\n",
      "Epoch 14/30\n",
      "7352/7352 [==============================] - 2s 305us/step - loss: 0.0070 - acc: 0.9973 - val_loss: 0.0033 - val_acc: 0.9993\n",
      "Epoch 15/30\n",
      "7352/7352 [==============================] - 2s 306us/step - loss: 0.0120 - acc: 0.9970 - val_loss: 0.0018 - val_acc: 0.9993\n",
      "Epoch 16/30\n",
      "7352/7352 [==============================] - 2s 302us/step - loss: 0.0124 - acc: 0.9965 - val_loss: 0.0014 - val_acc: 0.9993\n",
      "Epoch 17/30\n",
      "7352/7352 [==============================] - 2s 304us/step - loss: 0.0125 - acc: 0.9980 - val_loss: 0.0023 - val_acc: 0.9990\n",
      "Epoch 18/30\n",
      "7352/7352 [==============================] - 2s 306us/step - loss: 0.0139 - acc: 0.9965 - val_loss: 6.8134e-04 - val_acc: 0.9993\n",
      "Epoch 19/30\n",
      "7352/7352 [==============================] - 2s 307us/step - loss: 0.0073 - acc: 0.9978 - val_loss: 6.5839e-04 - val_acc: 0.9997\n",
      "Epoch 20/30\n",
      "7352/7352 [==============================] - 2s 308us/step - loss: 0.0112 - acc: 0.9971 - val_loss: 0.0039 - val_acc: 0.9990\n",
      "Epoch 21/30\n",
      "7352/7352 [==============================] - 2s 304us/step - loss: 0.0070 - acc: 0.9977 - val_loss: 0.0030 - val_acc: 0.9993\n",
      "Epoch 22/30\n",
      "7352/7352 [==============================] - 2s 303us/step - loss: 0.0342 - acc: 0.9933 - val_loss: 0.0039 - val_acc: 0.9990\n",
      "Epoch 23/30\n",
      "7352/7352 [==============================] - 2s 306us/step - loss: 0.0115 - acc: 0.9974 - val_loss: 0.0017 - val_acc: 0.9993\n",
      "Epoch 24/30\n",
      "7352/7352 [==============================] - 2s 307us/step - loss: 0.0131 - acc: 0.9974 - val_loss: 0.0042 - val_acc: 0.9990\n",
      "Epoch 25/30\n",
      "7352/7352 [==============================] - 2s 305us/step - loss: 0.0076 - acc: 0.9976 - val_loss: 0.0020 - val_acc: 0.9993\n",
      "Epoch 26/30\n",
      "7352/7352 [==============================] - 2s 305us/step - loss: 0.0140 - acc: 0.9976 - val_loss: 8.3984e-04 - val_acc: 0.9993\n",
      "Epoch 27/30\n",
      "7352/7352 [==============================] - 2s 305us/step - loss: 0.0065 - acc: 0.9980 - val_loss: 0.0016 - val_acc: 0.9997\n",
      "Epoch 28/30\n",
      "7352/7352 [==============================] - 2s 308us/step - loss: 0.0100 - acc: 0.9976 - val_loss: 0.0021 - val_acc: 0.9990\n",
      "Epoch 29/30\n",
      "7352/7352 [==============================] - 2s 309us/step - loss: 0.0155 - acc: 0.9969 - val_loss: 0.0014 - val_acc: 0.9993\n",
      "Epoch 30/30\n",
      "7352/7352 [==============================] - 2s 308us/step - loss: 0.0121 - acc: 0.9977 - val_loss: 0.0014 - val_acc: 0.9997\n",
      "2947/2947 [==============================] - 0s 74us/step\n"
     ]
    },
    {
     "data": {
      "text/plain": [
       "[0.0014044928401187003, 0.999660671869698]"
      ]
     },
     "execution_count": 45,
     "metadata": {},
     "output_type": "execute_result"
    },
    {
     "data": {
      "image/png": "[encoded data removed]",
      "text/plain": [
       "<Figure size 864x576 with 1 Axes>"
      ]
     },
     "metadata": {
      "needs_background": "light"
     },
     "output_type": "display_data"
    }
   ],
   "source": [
    "\n",
    "n_classes = 2\n",
    "\n",
    "twoClassmodel = Sequential()\n",
    "twoClassmodel.add(Conv1D(filters=32, kernel_size=6, activation='relu', input_shape=(128, 9)))\n",
    "twoClassmodel.add(Dropout(0.5))\n",
    "twoClassmodel.add(MaxPooling1D(pool_size=2))\n",
    "twoClassmodel.add(BatchNormalization())\n",
    "twoClassmodel.add(Flatten())\n",
    "twoClassmodel.add(Dropout(0.7))\n",
    "twoClassmodel.add(Dense(n_classes, activation='softmax'))\n",
    "twoClassmodel.compile(loss='categorical_crossentropy', optimizer='adam', metrics=['accuracy'])\n",
    "# Training the model\n",
    "history = twoClassmodel.fit(X_train,\n",
    "          Y_train,\n",
    "          batch_size=16,\n",
    "          validation_data=(X_test, Y_test),\n",
    "          epochs=30)\n",
    "plotErrorGraph(history,30)\n",
    "dump(twoClassmodel,'/home/pranay/Case Study/FitBit/HumanActivityRecognition/HAR/twoClassmodel')\n",
    "score = twoClassmodel.evaluate(X_test,Y_test)\n",
    "score\n"
   ]
  },
  {
   "cell_type": "markdown",
   "metadata": {},
   "source": [
    "While two class, classification we can observe, we can separate static and dynamic class with very good accuracy."
   ]
  },
  {
   "cell_type": "markdown",
   "metadata": {},
   "source": [
    "## Static Classification"
   ]
  },
  {
   "cell_type": "code",
   "execution_count": 25,
   "metadata": {},
   "outputs": [
    {
     "name": "stderr",
     "output_type": "stream",
     "text": [
      "/home/pranay/anaconda3/lib/python3.7/site-packages/ipykernel_launcher.py:84: FutureWarning: Method .as_matrix will be removed in a future version. Use .values instead.\n",
      "/home/pranay/anaconda3/lib/python3.7/site-packages/ipykernel_launcher.py:44: FutureWarning: Method .as_matrix will be removed in a future version. Use .values instead.\n"
     ]
    },
    {
     "name": "stdout",
     "output_type": "stream",
     "text": [
      "(4067, 128, 9) (4067, 3)\n",
      "(1560, 128, 9) (1560, 3)\n"
     ]
    }
   ],
   "source": [
    "X_train, Y_train, X_test,  Y_test = data_operation(32)\n",
    "\n",
    "print(X_train.shape, Y_train.shape)\n",
    "print(X_test.shape, Y_test.shape)\n"
   ]
  },
  {
   "cell_type": "code",
   "execution_count": 23,
   "metadata": {},
   "outputs": [
    {
     "name": "stdout",
     "output_type": "stream",
     "text": [
      "_________________________________________________________________\n",
      "Layer (type)                 Output Shape              Param #   \n",
      "=================================================================\n",
      "conv1d_23 (Conv1D)           (None, 123, 32)           1760      \n",
      "_________________________________________________________________\n",
      "conv1d_24 (Conv1D)           (None, 121, 16)           1552      \n",
      "_________________________________________________________________\n",
      "dropout_24 (Dropout)         (None, 121, 16)           0         \n",
      "_________________________________________________________________\n",
      "max_pooling1d_12 (MaxPooling (None, 60, 16)            0         \n",
      "_________________________________________________________________\n",
      "batch_normalization_12 (Batc (None, 60, 16)            64        \n",
      "_________________________________________________________________\n",
      "flatten_12 (Flatten)         (None, 960)               0         \n",
      "_________________________________________________________________\n",
      "dropout_25 (Dropout)         (None, 960)               0         \n",
      "_________________________________________________________________\n",
      "dense_15 (Dense)             (None, 64)                61504     \n",
      "_________________________________________________________________\n",
      "dropout_26 (Dropout)         (None, 64)                0         \n",
      "_________________________________________________________________\n",
      "dense_16 (Dense)             (None, 3)                 195       \n",
      "=================================================================\n",
      "Total params: 65,075\n",
      "Trainable params: 65,043\n",
      "Non-trainable params: 32\n",
      "_________________________________________________________________\n",
      "Train on 3285 samples, validate on 1387 samples\n",
      "Epoch 1/30\n",
      "3285/3285 [==============================] - 3s 819us/step - loss: 0.6819 - acc: 0.7260 - val_loss: 1.6548 - val_acc: 0.4448\n",
      "Epoch 2/30\n",
      "3285/3285 [==============================] - 1s 350us/step - loss: 0.1187 - acc: 0.9607 - val_loss: 0.2325 - val_acc: 0.9171\n",
      "Epoch 3/30\n",
      "3285/3285 [==============================] - 1s 344us/step - loss: 0.0549 - acc: 0.9808 - val_loss: 0.1608 - val_acc: 0.9423\n",
      "Epoch 4/30\n",
      "3285/3285 [==============================] - 1s 376us/step - loss: 0.0338 - acc: 0.9890 - val_loss: 0.1561 - val_acc: 0.9560\n",
      "Epoch 5/30\n",
      "3285/3285 [==============================] - 1s 350us/step - loss: 0.0464 - acc: 0.9842 - val_loss: 0.2790 - val_acc: 0.9301\n",
      "Epoch 6/30\n",
      "3285/3285 [==============================] - 1s 368us/step - loss: 0.0274 - acc: 0.9915 - val_loss: 0.2668 - val_acc: 0.9409\n",
      "Epoch 7/30\n",
      "3285/3285 [==============================] - 1s 360us/step - loss: 0.0240 - acc: 0.9909 - val_loss: 0.1436 - val_acc: 0.9611\n",
      "Epoch 8/30\n",
      "3285/3285 [==============================] - 1s 343us/step - loss: 0.0256 - acc: 0.9921 - val_loss: 0.3000 - val_acc: 0.9596\n",
      "Epoch 9/30\n",
      "3285/3285 [==============================] - 1s 344us/step - loss: 0.0241 - acc: 0.9930 - val_loss: 0.1664 - val_acc: 0.9611\n",
      "Epoch 10/30\n",
      "3285/3285 [==============================] - 1s 364us/step - loss: 0.0220 - acc: 0.9939 - val_loss: 0.1395 - val_acc: 0.9560\n",
      "Epoch 11/30\n",
      "3285/3285 [==============================] - 1s 342us/step - loss: 0.0173 - acc: 0.9945 - val_loss: 0.1893 - val_acc: 0.9582\n",
      "Epoch 12/30\n",
      "3285/3285 [==============================] - 1s 334us/step - loss: 0.0238 - acc: 0.9927 - val_loss: 0.5137 - val_acc: 0.9185\n",
      "Epoch 13/30\n",
      "3285/3285 [==============================] - 1s 373us/step - loss: 0.0102 - acc: 0.9976 - val_loss: 0.1511 - val_acc: 0.9647\n",
      "Epoch 14/30\n",
      "3285/3285 [==============================] - 1s 348us/step - loss: 0.0281 - acc: 0.9921 - val_loss: 0.3340 - val_acc: 0.9474\n",
      "Epoch 15/30\n",
      "3285/3285 [==============================] - 1s 349us/step - loss: 0.0254 - acc: 0.9915 - val_loss: 0.1253 - val_acc: 0.9683\n",
      "Epoch 16/30\n",
      "3285/3285 [==============================] - 1s 395us/step - loss: 0.0133 - acc: 0.9945 - val_loss: 0.2319 - val_acc: 0.9618\n",
      "Epoch 17/30\n",
      "3285/3285 [==============================] - 1s 340us/step - loss: 0.0180 - acc: 0.9951 - val_loss: 0.1170 - val_acc: 0.9654\n",
      "Epoch 18/30\n",
      "3285/3285 [==============================] - 1s 373us/step - loss: 0.0357 - acc: 0.9900 - val_loss: 0.1514 - val_acc: 0.9553\n",
      "Epoch 19/30\n",
      "3285/3285 [==============================] - 1s 354us/step - loss: 0.0119 - acc: 0.9960 - val_loss: 0.2228 - val_acc: 0.9661\n",
      "Epoch 20/30\n",
      "3285/3285 [==============================] - 1s 343us/step - loss: 0.0154 - acc: 0.9960 - val_loss: 0.0989 - val_acc: 0.9726\n",
      "Epoch 21/30\n",
      "3285/3285 [==============================] - 1s 374us/step - loss: 0.0140 - acc: 0.9963 - val_loss: 0.1379 - val_acc: 0.9683\n",
      "Epoch 22/30\n",
      "3285/3285 [==============================] - 1s 346us/step - loss: 0.0128 - acc: 0.9963 - val_loss: 0.3071 - val_acc: 0.9589\n",
      "Epoch 23/30\n",
      "3285/3285 [==============================] - 1s 377us/step - loss: 0.0175 - acc: 0.9951 - val_loss: 0.2129 - val_acc: 0.9632\n",
      "Epoch 24/30\n",
      "3285/3285 [==============================] - 1s 347us/step - loss: 0.0197 - acc: 0.9942 - val_loss: 0.2202 - val_acc: 0.9625\n",
      "Epoch 25/30\n",
      "3285/3285 [==============================] - 1s 349us/step - loss: 0.0282 - acc: 0.9939 - val_loss: 0.1424 - val_acc: 0.9704\n",
      "Epoch 26/30\n",
      "3285/3285 [==============================] - 1s 366us/step - loss: 0.0197 - acc: 0.9936 - val_loss: 0.0730 - val_acc: 0.9827\n",
      "Epoch 27/30\n",
      "3285/3285 [==============================] - 1s 370us/step - loss: 0.0154 - acc: 0.9948 - val_loss: 0.1377 - val_acc: 0.9661\n",
      "Epoch 28/30\n",
      "3285/3285 [==============================] - 1s 379us/step - loss: 0.0039 - acc: 0.9985 - val_loss: 0.2396 - val_acc: 0.9625\n",
      "Epoch 29/30\n",
      "3285/3285 [==============================] - 1s 407us/step - loss: 0.0120 - acc: 0.9976 - val_loss: 0.0538 - val_acc: 0.9762\n",
      "Epoch 30/30\n",
      "3285/3285 [==============================] - 1s 386us/step - loss: 0.0242 - acc: 0.9930 - val_loss: 0.1327 - val_acc: 0.9632\n",
      "1387/1387 [==============================] - 0s 82us/step\n"
     ]
    },
    {
     "data": {
      "text/plain": [
       "[0.13269949434964906, 0.9632299927901946]"
      ]
     },
     "execution_count": 23,
     "metadata": {},
     "output_type": "execute_result"
    },
    {
     "data": {
      "image/png": "[encoded data removed]",
      "text/plain": [
       "<Figure size 864x576 with 1 Axes>"
      ]
     },
     "metadata": {
      "needs_background": "light"
     },
     "output_type": "display_data"
    }
   ],
   "source": [
    "staticModel = Sequential()\n",
    "staticModel.add(Conv1D(filters=32, kernel_size=6, activation='relu', input_shape=(128, 9)))\n",
    "staticModel.add(Conv1D(filters=16, kernel_size=3, activation='relu'))\n",
    "\n",
    "staticModel.add(Dropout(0.2))\n",
    "staticModel.add(MaxPooling1D(pool_size=2))\n",
    "staticModel.add(BatchNormalization())\n",
    "staticModel.add(Flatten())\n",
    "staticModel.add(Dropout(0.3))\n",
    "staticModel.add(Dense(64, activation='relu'))\n",
    "staticModel.add(Dropout(0.4))\n",
    "staticModel.add(Dense(3, activation='softmax'))\n",
    "staticModel.summary()\n",
    "staticModel.compile(loss='categorical_crossentropy', optimizer='adam', metrics=['accuracy'])\n",
    "history = staticModel.fit(X_train,\n",
    "          Y_train,\n",
    "          batch_size=16,\n",
    "          validation_data=(X_test, Y_test),\n",
    "          epochs=30)\n",
    "plotErrorGraph(history,30)\n",
    "dump(staticModel,'/home/pranay/Case Study/FitBit/HumanActivityRecognition/HAR/staticModel')\n",
    "\n",
    "score = staticModel.evaluate(X_test, Y_test)\n",
    "score"
   ]
  },
  {
   "cell_type": "markdown",
   "metadata": {},
   "source": [
    "## Dynamic Classification"
   ]
  },
  {
   "cell_type": "code",
   "execution_count": 11,
   "metadata": {},
   "outputs": [
    {
     "name": "stderr",
     "output_type": "stream",
     "text": [
      "/home/pranay/anaconda3/lib/python3.7/site-packages/ipykernel_launcher.py:84: FutureWarning: Method .as_matrix will be removed in a future version. Use .values instead.\n",
      "/home/pranay/anaconda3/lib/python3.7/site-packages/ipykernel_launcher.py:44: FutureWarning: Method .as_matrix will be removed in a future version. Use .values instead.\n"
     ]
    },
    {
     "name": "stdout",
     "output_type": "stream",
     "text": [
      "(3285, 128, 9) (3285, 3)\n",
      "(1387, 128, 9) (1387, 3)\n"
     ]
    }
   ],
   "source": [
    "X_train, Y_train, X_test,  Y_test = data_operation(31)\n",
    "\n",
    "print(X_train.shape, Y_train.shape)\n",
    "print(X_test.shape, Y_test.shape)\n"
   ]
  },
  {
   "cell_type": "code",
   "execution_count": 19,
   "metadata": {
    "scrolled": false
   },
   "outputs": [
    {
     "name": "stdout",
     "output_type": "stream",
     "text": [
      "Train on 3285 samples, validate on 1387 samples\n",
      "Epoch 1/30\n",
      "3285/3285 [==============================] - 2s 573us/step - loss: 1.0762 - acc: 0.5476 - val_loss: 0.7879 - val_acc: 0.6828\n",
      "Epoch 2/30\n",
      "3285/3285 [==============================] - 1s 278us/step - loss: 0.3216 - acc: 0.8804 - val_loss: 0.4181 - val_acc: 0.8385\n",
      "Epoch 3/30\n",
      "3285/3285 [==============================] - 1s 277us/step - loss: 0.1381 - acc: 0.9531 - val_loss: 0.3021 - val_acc: 0.8803\n",
      "Epoch 4/30\n",
      "3285/3285 [==============================] - 1s 278us/step - loss: 0.1056 - acc: 0.9647 - val_loss: 0.2519 - val_acc: 0.9106\n",
      "Epoch 5/30\n",
      "3285/3285 [==============================] - 1s 276us/step - loss: 0.0657 - acc: 0.9787 - val_loss: 0.3988 - val_acc: 0.8248\n",
      "Epoch 6/30\n",
      "3285/3285 [==============================] - 1s 276us/step - loss: 0.0454 - acc: 0.9872 - val_loss: 0.1533 - val_acc: 0.9517\n",
      "Epoch 7/30\n",
      "3285/3285 [==============================] - 1s 280us/step - loss: 0.0556 - acc: 0.9830 - val_loss: 0.1314 - val_acc: 0.9582\n",
      "Epoch 8/30\n",
      "3285/3285 [==============================] - 1s 277us/step - loss: 0.0261 - acc: 0.9927 - val_loss: 0.1607 - val_acc: 0.9524\n",
      "Epoch 9/30\n",
      "3285/3285 [==============================] - 1s 274us/step - loss: 0.0375 - acc: 0.9881 - val_loss: 0.0956 - val_acc: 0.9668\n",
      "Epoch 10/30\n",
      "3285/3285 [==============================] - 1s 281us/step - loss: 0.0226 - acc: 0.9936 - val_loss: 0.1456 - val_acc: 0.9351\n",
      "Epoch 11/30\n",
      "3285/3285 [==============================] - 1s 302us/step - loss: 0.0367 - acc: 0.9890 - val_loss: 0.1183 - val_acc: 0.9762\n",
      "Epoch 12/30\n",
      "3285/3285 [==============================] - 1s 302us/step - loss: 0.0149 - acc: 0.9963 - val_loss: 0.0644 - val_acc: 0.9769\n",
      "Epoch 13/30\n",
      "3285/3285 [==============================] - 1s 297us/step - loss: 0.0239 - acc: 0.9909 - val_loss: 0.0522 - val_acc: 0.9820\n",
      "Epoch 14/30\n",
      "3285/3285 [==============================] - 1s 321us/step - loss: 0.0230 - acc: 0.9903 - val_loss: 0.1582 - val_acc: 0.9279\n",
      "Epoch 15/30\n",
      "3285/3285 [==============================] - 1s 283us/step - loss: 0.0178 - acc: 0.9945 - val_loss: 0.0696 - val_acc: 0.9704\n",
      "Epoch 16/30\n",
      "3285/3285 [==============================] - 1s 310us/step - loss: 0.0214 - acc: 0.9936 - val_loss: 0.0672 - val_acc: 0.9704\n",
      "Epoch 17/30\n",
      "3285/3285 [==============================] - 1s 327us/step - loss: 0.0090 - acc: 0.9979 - val_loss: 0.0284 - val_acc: 0.9921\n",
      "Epoch 18/30\n",
      "3285/3285 [==============================] - 1s 285us/step - loss: 0.0318 - acc: 0.9887 - val_loss: 0.1240 - val_acc: 0.9474\n",
      "Epoch 19/30\n",
      "3285/3285 [==============================] - 1s 281us/step - loss: 0.0162 - acc: 0.9957 - val_loss: 0.0527 - val_acc: 0.9784\n",
      "Epoch 20/30\n",
      "3285/3285 [==============================] - 1s 281us/step - loss: 0.0187 - acc: 0.9942 - val_loss: 0.0643 - val_acc: 0.9755\n",
      "Epoch 21/30\n",
      "3285/3285 [==============================] - 1s 301us/step - loss: 0.0177 - acc: 0.9939 - val_loss: 0.0588 - val_acc: 0.9820\n",
      "Epoch 22/30\n",
      "3285/3285 [==============================] - 1s 291us/step - loss: 0.0126 - acc: 0.9954 - val_loss: 0.0799 - val_acc: 0.9683\n",
      "Epoch 23/30\n",
      "3285/3285 [==============================] - 1s 285us/step - loss: 0.0240 - acc: 0.9924 - val_loss: 0.1039 - val_acc: 0.9596\n",
      "Epoch 24/30\n",
      "3285/3285 [==============================] - 1s 307us/step - loss: 0.0279 - acc: 0.9909 - val_loss: 0.0517 - val_acc: 0.9784\n",
      "Epoch 25/30\n",
      "3285/3285 [==============================] - 1s 290us/step - loss: 0.0194 - acc: 0.9939 - val_loss: 0.1938 - val_acc: 0.9445\n",
      "Epoch 26/30\n",
      "3285/3285 [==============================] - 1s 293us/step - loss: 0.0173 - acc: 0.9942 - val_loss: 0.0670 - val_acc: 0.9748\n",
      "Epoch 27/30\n",
      "3285/3285 [==============================] - 1s 311us/step - loss: 0.0179 - acc: 0.9939 - val_loss: 0.0873 - val_acc: 0.9704\n",
      "Epoch 28/30\n",
      "3285/3285 [==============================] - 1s 288us/step - loss: 0.0122 - acc: 0.9957 - val_loss: 0.0751 - val_acc: 0.9740\n",
      "Epoch 29/30\n",
      "3285/3285 [==============================] - 1s 303us/step - loss: 0.0061 - acc: 0.9988 - val_loss: 0.0274 - val_acc: 0.9906\n",
      "Epoch 30/30\n",
      "3285/3285 [==============================] - 1s 293us/step - loss: 0.0032 - acc: 0.9991 - val_loss: 0.0315 - val_acc: 0.9892\n",
      "1387/1387 [==============================] - 0s 70us/step\n"
     ]
    },
    {
     "data": {
      "text/plain": [
       "[0.03154490509509411, 0.989185291997116]"
      ]
     },
     "execution_count": 19,
     "metadata": {},
     "output_type": "execute_result"
    },
    {
     "data": {
      "image/png": "[encoded data removed]",
      "text/plain": [
       "<Figure size 864x576 with 1 Axes>"
      ]
     },
     "metadata": {
      "needs_background": "light"
     },
     "output_type": "display_data"
    }
   ],
   "source": [
    "\n",
    "dynamicModel = Sequential()\n",
    "dynamicModel.add(Conv1D(filters=32, kernel_size=6, activation='relu', input_shape=(128, 9)))\n",
    "dynamicModel.add(Conv1D(filters=16, kernel_size=3, activation='relu'))\n",
    "dynamicModel.add(Dropout(0.5))\n",
    "dynamicModel.add(MaxPooling1D(pool_size=2))\n",
    "dynamicModel.add(BatchNormalization())\n",
    "dynamicModel.add(Flatten())\n",
    "dynamicModel.add(Dropout(0.5))\n",
    "dynamicModel.add(Dense(3, activation='softmax'))\n",
    "dynamicModel.compile(loss='categorical_crossentropy', optimizer='adam', metrics=['accuracy'])\n",
    "# Training the model\n",
    "history = dynamicModel.fit(X_train,\n",
    "          Y_train,\n",
    "          batch_size=16,\n",
    "          validation_data=(X_test, Y_test),\n",
    "          epochs=30)\n",
    "plotErrorGraph(history,30)\n",
    "dump(dynamicModel,'/home/pranay/Case Study/FitBit/HumanActivityRecognition/HAR/dynamicModel1')\n",
    "\n",
    "score = dynamicModel.evaluate(X_test,Y_test)\n",
    "score\n"
   ]
  },
  {
   "cell_type": "markdown",
   "metadata": {},
   "source": [
    "## Model Evaluation"
   ]
  },
  {
   "cell_type": "markdown",
   "metadata": {},
   "source": [
    "### Two class"
   ]
  },
  {
   "cell_type": "code",
   "execution_count": 46,
   "metadata": {},
   "outputs": [
    {
     "name": "stderr",
     "output_type": "stream",
     "text": [
      "/home/pranay/anaconda3/lib/python3.7/site-packages/ipykernel_launcher.py:84: FutureWarning: Method .as_matrix will be removed in a future version. Use .values instead.\n",
      "/home/pranay/anaconda3/lib/python3.7/site-packages/ipykernel_launcher.py:44: FutureWarning: Method .as_matrix will be removed in a future version. Use .values instead.\n"
     ]
    },
    {
     "name": "stdout",
     "output_type": "stream",
     "text": [
      "Pred     DYNAMIC  STATIC\n",
      "True                    \n",
      "DYNAMIC     1387       0\n",
      "STATIC         1    1559\n"
     ]
    }
   ],
   "source": [
    "X_train, Y_train, X_test,  Y_test = data_operation(2)\n",
    "\n",
    "\n",
    "\n",
    "ACTIVITIES = {\n",
    "    0: 'DYNAMIC',\n",
    "    1: 'STATIC',\n",
    "\n",
    "}\n",
    "\n",
    "twoclass_pred = twoClassmodel.predict(X_test)\n",
    "\n",
    "Y_true = pd.Series([ACTIVITIES[y] for y in np.argmax(Y_test, axis=1)])\n",
    "Y_pred = pd.Series([ACTIVITIES[y] for y in np.argmax(twoclass_pred, axis=1)])\n",
    "\n",
    "cm = pd.crosstab(Y_true, Y_pred, rownames=['True'], colnames=['Pred'])\n",
    "\n",
    "# Confusion Matrix\n",
    "print(cm)"
   ]
  },
  {
   "cell_type": "markdown",
   "metadata": {},
   "source": [
    "## Static Classification"
   ]
  },
  {
   "cell_type": "code",
   "execution_count": 32,
   "metadata": {},
   "outputs": [
    {
     "name": "stderr",
     "output_type": "stream",
     "text": [
      "/home/pranay/anaconda3/lib/python3.7/site-packages/ipykernel_launcher.py:84: FutureWarning: Method .as_matrix will be removed in a future version. Use .values instead.\n",
      "/home/pranay/anaconda3/lib/python3.7/site-packages/ipykernel_launcher.py:44: FutureWarning: Method .as_matrix will be removed in a future version. Use .values instead.\n"
     ]
    },
    {
     "name": "stdout",
     "output_type": "stream",
     "text": [
      "Pred      LAYING  SITTING  STANDING\n",
      "True                               \n",
      "LAYING       310        0       227\n",
      "SITTING      160      185       146\n",
      "STANDING       0      342       190\n"
     ]
    }
   ],
   "source": [
    "X_train, Y_train, X_test,  Y_test = data_operation(32)\n",
    "\n",
    "\n",
    "\n",
    "ACTIVITIES = {\n",
    "        0: 'SITTING',\n",
    "        1: 'STANDING',\n",
    "        2: 'LAYING',\n",
    "\n",
    "}\n",
    "\n",
    "static_class_pred = staticModel.predict(X_test)\n",
    "\n",
    "Y_true = pd.Series([ACTIVITIES[y] for y in np.argmax(Y_test, axis=1)])\n",
    "Y_pred = pd.Series([ACTIVITIES[y] for y in np.argmax(static_class_pred, axis=1)])\n",
    "\n",
    "cm = pd.crosstab(Y_true, Y_pred, rownames=['True'], colnames=['Pred'])\n",
    "\n",
    "# Confusion Matrix\n",
    "print(cm)"
   ]
  },
  {
   "cell_type": "markdown",
   "metadata": {},
   "source": [
    "## Dynamic Classification"
   ]
  },
  {
   "cell_type": "code",
   "execution_count": 33,
   "metadata": {
    "scrolled": true
   },
   "outputs": [
    {
     "name": "stderr",
     "output_type": "stream",
     "text": [
      "/home/pranay/anaconda3/lib/python3.7/site-packages/ipykernel_launcher.py:84: FutureWarning: Method .as_matrix will be removed in a future version. Use .values instead.\n",
      "/home/pranay/anaconda3/lib/python3.7/site-packages/ipykernel_launcher.py:44: FutureWarning: Method .as_matrix will be removed in a future version. Use .values instead.\n"
     ]
    },
    {
     "name": "stdout",
     "output_type": "stream",
     "text": [
      "Pred                WALKING  WALKING_DOWNSTAIRS  WALKING_UPSTAIRS\n",
      "True                                                             \n",
      "WALKING                 489                   6                 1\n",
      "WALKING_DOWNSTAIRS        2                 417                 1\n",
      "WALKING_UPSTAIRS          0                   5               466\n"
     ]
    }
   ],
   "source": [
    "X_train, Y_train, X_test,  Y_test = data_operation(31)\n",
    "\n",
    "\n",
    "\n",
    "ACTIVITIES = {\n",
    "      0: 'WALKING',\n",
    "      1: 'WALKING_UPSTAIRS',\n",
    "      2: 'WALKING_DOWNSTAIRS',\n",
    "\n",
    "}\n",
    "\n",
    "static_class_pred = dynamicModel.predict(X_test)\n",
    "\n",
    "Y_true = pd.Series([ACTIVITIES[y] for y in np.argmax(Y_test, axis=1)])\n",
    "Y_pred = pd.Series([ACTIVITIES[y] for y in np.argmax(static_class_pred, axis=1)])\n",
    "\n",
    "cm = pd.crosstab(Y_true, Y_pred, rownames=['True'], colnames=['Pred'])\n",
    "\n",
    "# Confusion Matrix\n",
    "print(cm)"
   ]
  },
  {
   "cell_type": "markdown",
   "metadata": {},
   "source": [
    "## Final Results"
   ]
  },
  {
   "cell_type": "markdown",
   "metadata": {},
   "source": [
    "Two class classification = 99.96% Accuracy\n",
    "\n",
    "Static classification = 96.32% Accuracy\n",
    "\n",
    "Two class classification = 98.91% Accuracy"
   ]
  },
  {
   "cell_type": "markdown",
   "metadata": {},
   "source": [
    "# Conclusion"
   ]
  },
  {
   "cell_type": "code",
   "execution_count": 50,
   "metadata": {},
   "outputs": [
    {
     "name": "stdout",
     "output_type": "stream",
     "text": [
      "+-----------+------------+----------------+-----------+---------------+\n",
      "|   Model   | Train Loss | Train Accuracy | Test Loss | Test Accuracy |\n",
      "+-----------+------------+----------------+-----------+---------------+\n",
      "| Two class |   0.0121   |     0.9977     |   0.0014  |     0.9997    |\n",
      "|  Static   |   0.0242   |     0.9930     |   0.1327  |     0.9632    |\n",
      "|  Dynamic  |   0.0032   |     0.9991     |   0.0315  |     0.9892    |\n",
      "+-----------+------------+----------------+-----------+---------------+\n"
     ]
    }
   ],
   "source": [
    "from prettytable import PrettyTable \n",
    "x = PrettyTable()\n",
    "x.field_names = [\"Model\", \"Train Loss\", \"Train Accuracy\", \"Test Loss\",\"Test Accuracy\"]\n",
    "x.add_row(['Two class','0.0121','0.9977','0.0014','0.9997'])\n",
    "x.add_row(['Static ','0.0242','0.9930','0.1327','0.9632'])\n",
    "x.add_row(['Dynamic','0.0032','0.9991','0.0315','0.9892'])\n",
    "\n",
    "print(x)"
   ]
  },
  {
   "cell_type": "markdown",
   "metadata": {},
   "source": [
    "- In above problem we took **Divide and Conquer** approach.\n",
    "- We can observe that Training loss and Test loss have not much difference in all models so model is surely note overfitting.\n",
    "- There is some confusion in SITTING, LAYING classes.\n",
    "- In dynamic classification its really good classification.\n",
    "- Extension for this case study is that we can sub-divide Static class and check what is happening."
   ]
  }
 ],
 "metadata": {
  "kernelspec": {
   "display_name": "Python 3",
   "language": "python",
   "name": "python3"
  },
  "language_info": {
   "codemirror_mode": {
    "name": "ipython",
    "version": 3
   },
   "file_extension": ".py",
   "mimetype": "text/x-python",
   "name": "python",
   "nbconvert_exporter": "python",
   "pygments_lexer": "ipython3",
   "version": "3.7.4"
  }
 },
 "nbformat": 4,
 "nbformat_minor": 2
}
